{
 "cells": [
  {
   "cell_type": "markdown",
   "id": "0299583e",
   "metadata": {
    "id": "0299583e"
   },
   "source": [
    "## 코딩테스트\n",
    "\n",
    "### MNIST 손글씨 숫자 분류"
   ]
  },
  {
   "cell_type": "code",
   "execution_count": 1,
   "id": "8faf2380",
   "metadata": {
    "id": "8faf2380"
   },
   "outputs": [],
   "source": [
    "import torch\n",
    "import torch.nn as nn\n",
    "import torch.nn.functional as F\n",
    "import torchvision\n",
    "import torchvision.transforms as transforms\n",
    "from torch.utils.data import DataLoader"
   ]
  },
  {
   "cell_type": "markdown",
   "id": "6ba33f2c",
   "metadata": {
    "id": "6ba33f2c"
   },
   "source": [
    "### 데이터 로딩 및 전처리"
   ]
  },
  {
   "cell_type": "code",
   "execution_count": 2,
   "id": "5763f27a",
   "metadata": {
    "id": "5763f27a",
    "outputId": "d0012b07-9c76-4f03-d7c7-77960d527ddd"
   },
   "outputs": [
    {
     "name": "stdout",
     "output_type": "stream",
     "text": [
      "CPU/GPU: cuda\n"
     ]
    }
   ],
   "source": [
    "device = torch.device('cuda' if torch.cuda.is_available() else 'cpu')\n",
    "print(f'CPU/GPU: {device}')\n",
    "\n",
    "transform = transforms.ToTensor()\n",
    "\n",
    "train_set = torchvision.datasets.MNIST(\n",
    "    root='./data', train=True, download=True, transform=transform)\n",
    "\n",
    "test_set = torchvision.datasets.MNIST(\n",
    "    root='./data', train=False, download=True, transform=transform)\n",
    "\n",
    "train_loader = DataLoader(train_set, batch_size=64, shuffle=True)\n",
    "test_loader = DataLoader(test_set, batch_size=64, shuffle=False)"
   ]
  },
  {
   "cell_type": "markdown",
   "id": "79f98a6f",
   "metadata": {
    "id": "79f98a6f"
   },
   "source": [
    "### CNN 모델 선언"
   ]
  },
  {
   "cell_type": "code",
   "execution_count": null,
   "id": "263c99b0",
   "metadata": {
    "id": "263c99b0"
   },
   "outputs": [],
   "source": [
    "class CNN(nn.Module):\n",
    "    def __init__(self):\n",
    "        super(CNN, self).__init__()\n",
    "        self.conv1 = nn.Conv2d(1, 16, kernel_size=3)\n",
    "        self.pool = nn.MaxPool2d(2, 2)\n",
    "        self.conv2 = nn.Conv2d(16, 32, kernel_size=3)\n",
    "        self.fc1 = nn.Linear(32 * 5 * 5, 128)\n",
    "        self.fc2 = nn.Linear(128, 10)\n",
    "\n",
    "    def forward(self, x):\n",
    "        x = self.pool(F.relu(self.conv1(x)))\n",
    "        x = self.pool(F.relu(self.conv2(x)))\n",
    "        # 문제. 아래의 주석을 풀고 알맞은 Flatten 내용을 추가하시오.\n",
    "        x = x.view(x.size(0), -1)\n",
    "        x = F.relu(self.fc1(x))\n",
    "        x = self.fc2(x)\n",
    "        return x"
   ]
  },
  {
   "cell_type": "code",
   "execution_count": 8,
   "id": "46145b44",
   "metadata": {
    "id": "46145b44"
   },
   "outputs": [],
   "source": [
    "model = CNN()"
   ]
  },
  {
   "cell_type": "markdown",
   "id": "011f41a8",
   "metadata": {
    "id": "011f41a8"
   },
   "source": [
    "### 손실함수와 옵티마이저"
   ]
  },
  {
   "cell_type": "code",
   "execution_count": 9,
   "id": "6711155f",
   "metadata": {
    "id": "6711155f"
   },
   "outputs": [],
   "source": [
    "criterion = nn.CrossEntropyLoss()\n",
    "# 문제: 아래의 주석을 해제, Adam 옵티마이저를 설정하고 학습률은 0.001로 지정하세요.\n",
    "optimizer = torch.optim.Adam(model.parameters(), lr=0.001)"
   ]
  },
  {
   "cell_type": "markdown",
   "id": "42e8d7f0",
   "metadata": {
    "id": "42e8d7f0"
   },
   "source": [
    "### 학습"
   ]
  },
  {
   "cell_type": "code",
   "execution_count": 10,
   "id": "3103fc24",
   "metadata": {
    "id": "3103fc24"
   },
   "outputs": [
    {
     "name": "stdout",
     "output_type": "stream",
     "text": [
      "[Epoch 1] Loss: 0.2261\n",
      "[Epoch 2] Loss: 0.0625\n",
      "[Epoch 3] Loss: 0.0425\n",
      "[Epoch 4] Loss: 0.0325\n",
      "[Epoch 5] Loss: 0.0261\n"
     ]
    }
   ],
   "source": [
    "epochs = 5\n",
    "for epoch in range(epochs):\n",
    "    running_loss = 0.0\n",
    "    for images, labels in train_loader:\n",
    "        outputs = model(images)\n",
    "        # 문제: 아래의 주석 해제, 손실(loss)를 계산하세요.\n",
    "        loss = criterion(outputs, labels)\n",
    "\n",
    "        optimizer.zero_grad()\n",
    "        loss.backward()\n",
    "        optimizer.step()\n",
    "\n",
    "        running_loss += loss.item()\n",
    "\n",
    "    print(f\"[Epoch {epoch+1}] Loss: {running_loss / len(train_loader):.4f}\")"
   ]
  },
  {
   "cell_type": "markdown",
   "id": "2f267b62",
   "metadata": {
    "id": "2f267b62"
   },
   "source": [
    "### 평가 및 저장"
   ]
  },
  {
   "cell_type": "code",
   "execution_count": 12,
   "id": "50d80a86",
   "metadata": {
    "id": "50d80a86"
   },
   "outputs": [
    {
     "name": "stdout",
     "output_type": "stream",
     "text": [
      "테스트 정확도: 98.92%\n"
     ]
    }
   ],
   "source": [
    "model.eval()\n",
    "correct = 0\n",
    "total = 0\n",
    "with torch.no_grad():\n",
    "    for images, labels in test_loader:\n",
    "        outputs = model(images)\n",
    "        _, predicted = torch.max(outputs, 1)\n",
    "        total += labels.size(0)\n",
    "        # 문제: 주석해제 후, 정확히 예측한 개수를 누적하세요.\n",
    "        correct += (predicted == labels).sum().item()\n",
    "print(f'테스트 정확도: {100 * correct / total:.2f}%')\n",
    "\n",
    "# 문제: 모델 저장 (선택) - 학습된 모델을 'mnist_cnn.pth' 파일로 저장하는 코드를 작성하시오\n",
    "torch.save(model, 'mnist_cnn.pth')"
   ]
  },
  {
   "cell_type": "markdown",
   "id": "92e2f5b9",
   "metadata": {
    "id": "92e2f5b9"
   },
   "source": [
    "#### 위의 내용을 CUDA에서 동작하도록 하나의 셀에 작성 완성하시오"
   ]
  },
  {
   "cell_type": "code",
   "execution_count": 14,
   "id": "R6TrLM55Tzc4",
   "metadata": {
    "executionInfo": {
     "elapsed": 8,
     "status": "ok",
     "timestamp": 1744785345623,
     "user": {
      "displayName": "MG “Hugo” Sung",
      "userId": "01836946422587818310"
     },
     "user_tz": -540
    },
    "id": "R6TrLM55Tzc4"
   },
   "outputs": [
    {
     "name": "stdout",
     "output_type": "stream",
     "text": [
      "CPU/GPU: cuda\n",
      "[Epoch 1] Loss: 0.2427\n",
      "[Epoch 2] Loss: 0.0626\n",
      "[Epoch 3] Loss: 0.0451\n",
      "[Epoch 4] Loss: 0.0335\n",
      "[Epoch 5] Loss: 0.0279\n",
      "테스트 정확도: 98.39%\n"
     ]
    }
   ],
   "source": [
    "# 문제: 전체 소스 작성\n",
    "\n",
    "import torch\n",
    "import torch.nn as nn\n",
    "import torch.nn.functional as F\n",
    "import torchvision\n",
    "import torchvision.transforms as transforms\n",
    "from torch.utils.data import DataLoader\n",
    "\n",
    "# 장치 설정\n",
    "device = torch.device('cuda' if torch.cuda.is_available() else 'cpu')\n",
    "print(f'CPU/GPU: {device}')\n",
    "\n",
    "# 데이터 변환\n",
    "transform = transforms.ToTensor()\n",
    "\n",
    "# MNIST 데이터셋 로딩\n",
    "train_set = torchvision.datasets.MNIST(\n",
    "    root='./data', train=True, download=True, transform=transform)\n",
    "\n",
    "test_set = torchvision.datasets.MNIST(\n",
    "    root='./data', train=False, download=True, transform=transform)\n",
    "\n",
    "train_loader = DataLoader(train_set, batch_size=64, shuffle=True)\n",
    "test_loader = DataLoader(test_set, batch_size=64, shuffle=False)\n",
    "\n",
    "# CNN 모델 정의\n",
    "class CNN(nn.Module):\n",
    "    def __init__(self):\n",
    "        super(CNN, self).__init__()\n",
    "        self.conv1 = nn.Conv2d(1, 16, kernel_size=3)\n",
    "        self.pool = nn.MaxPool2d(2, 2)\n",
    "        self.conv2 = nn.Conv2d(16, 32, kernel_size=3)\n",
    "        self.fc1 = nn.Linear(32 * 5 * 5, 128)\n",
    "        self.fc2 = nn.Linear(128, 10)\n",
    "\n",
    "    def forward(self, x):\n",
    "        x = self.pool(F.relu(self.conv1(x)))\n",
    "        x = self.pool(F.relu(self.conv2(x)))\n",
    "        x = x.view(x.size(0), -1)  # Flatten\n",
    "        x = F.relu(self.fc1(x))\n",
    "        x = self.fc2(x)\n",
    "        return x\n",
    "\n",
    "# 모델 생성 및 GPU로 이동\n",
    "model = CNN().to(device)\n",
    "\n",
    "# 손실 함수 및 옵티마이저\n",
    "criterion = nn.CrossEntropyLoss()\n",
    "optimizer = torch.optim.Adam(model.parameters(), lr=0.001)\n",
    "\n",
    "# 학습 루프\n",
    "epochs = 5\n",
    "for epoch in range(epochs):\n",
    "    running_loss = 0.0\n",
    "    model.train()\n",
    "    for images, labels in train_loader:\n",
    "        images, labels = images.to(device), labels.to(device)\n",
    "        outputs = model(images)\n",
    "        loss = criterion(outputs, labels)\n",
    "\n",
    "        optimizer.zero_grad()\n",
    "        loss.backward()\n",
    "        optimizer.step()\n",
    "\n",
    "        running_loss += loss.item()\n",
    "\n",
    "    print(f\"[Epoch {epoch+1}] Loss: {running_loss / len(train_loader):.4f}\")\n",
    "\n",
    "# 평가\n",
    "model.eval()\n",
    "correct = 0\n",
    "total = 0\n",
    "with torch.no_grad():\n",
    "    for images, labels in test_loader:\n",
    "        images, labels = images.to(device), labels.to(device)\n",
    "        outputs = model(images)\n",
    "        _, predicted = torch.max(outputs, 1)\n",
    "        total += labels.size(0)\n",
    "        correct += (predicted == labels).sum().item()\n",
    "\n",
    "print(f'테스트 정확도: {100 * correct / total:.2f}%')\n",
    "\n",
    "# 모델 저장\n",
    "torch.save(model.state_dict(), 'mnist_cnn.pth')\n"
   ]
  }
 ],
 "metadata": {
  "colab": {
   "provenance": []
  },
  "kernelspec": {
   "display_name": "mlvenv",
   "language": "python",
   "name": "python3"
  },
  "language_info": {
   "codemirror_mode": {
    "name": "ipython",
    "version": 3
   },
   "file_extension": ".py",
   "mimetype": "text/x-python",
   "name": "python",
   "nbconvert_exporter": "python",
   "pygments_lexer": "ipython3",
   "version": "3.11.9"
  }
 },
 "nbformat": 4,
 "nbformat_minor": 5
}
